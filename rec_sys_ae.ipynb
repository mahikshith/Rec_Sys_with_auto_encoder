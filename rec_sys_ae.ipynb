{
 "cells": [
  {
   "cell_type": "markdown",
   "metadata": {},
   "source": [
    "Given a user ratings dataset and a movie dataset, build an autoencoder for recommender system"
   ]
  },
  {
   "cell_type": "code",
   "execution_count": null,
   "metadata": {},
   "outputs": [],
   "source": [
    "pip install tensorflow\n"
   ]
  },
  {
   "cell_type": "markdown",
   "metadata": {},
   "source": [
    "Using Autoencoder for recommender system"
   ]
  },
  {
   "cell_type": "code",
   "execution_count": 2,
   "metadata": {},
   "outputs": [],
   "source": [
    "import pandas as pd \n",
    "import numpy as np "
   ]
  },
  {
   "cell_type": "code",
   "execution_count": 3,
   "metadata": {},
   "outputs": [],
   "source": [
    "df = pd.read_csv('ratings.csv')\n",
    "mov = pd.read_csv('movies.csv')"
   ]
  },
  {
   "cell_type": "code",
   "execution_count": 5,
   "metadata": {},
   "outputs": [
    {
     "data": {
      "text/html": [
       "<div>\n",
       "<style scoped>\n",
       "    .dataframe tbody tr th:only-of-type {\n",
       "        vertical-align: middle;\n",
       "    }\n",
       "\n",
       "    .dataframe tbody tr th {\n",
       "        vertical-align: top;\n",
       "    }\n",
       "\n",
       "    .dataframe thead th {\n",
       "        text-align: right;\n",
       "    }\n",
       "</style>\n",
       "<table border=\"1\" class=\"dataframe\">\n",
       "  <thead>\n",
       "    <tr style=\"text-align: right;\">\n",
       "      <th></th>\n",
       "      <th>userId</th>\n",
       "      <th>movieId</th>\n",
       "      <th>rating</th>\n",
       "      <th>timestamp</th>\n",
       "    </tr>\n",
       "  </thead>\n",
       "  <tbody>\n",
       "    <tr>\n",
       "      <th>0</th>\n",
       "      <td>1</td>\n",
       "      <td>16</td>\n",
       "      <td>4.0</td>\n",
       "      <td>1217897793</td>\n",
       "    </tr>\n",
       "    <tr>\n",
       "      <th>1</th>\n",
       "      <td>1</td>\n",
       "      <td>24</td>\n",
       "      <td>1.5</td>\n",
       "      <td>1217895807</td>\n",
       "    </tr>\n",
       "    <tr>\n",
       "      <th>2</th>\n",
       "      <td>1</td>\n",
       "      <td>32</td>\n",
       "      <td>4.0</td>\n",
       "      <td>1217896246</td>\n",
       "    </tr>\n",
       "    <tr>\n",
       "      <th>3</th>\n",
       "      <td>1</td>\n",
       "      <td>47</td>\n",
       "      <td>4.0</td>\n",
       "      <td>1217896556</td>\n",
       "    </tr>\n",
       "    <tr>\n",
       "      <th>4</th>\n",
       "      <td>1</td>\n",
       "      <td>50</td>\n",
       "      <td>4.0</td>\n",
       "      <td>1217896523</td>\n",
       "    </tr>\n",
       "    <tr>\n",
       "      <th>5</th>\n",
       "      <td>1</td>\n",
       "      <td>110</td>\n",
       "      <td>4.0</td>\n",
       "      <td>1217896150</td>\n",
       "    </tr>\n",
       "    <tr>\n",
       "      <th>6</th>\n",
       "      <td>1</td>\n",
       "      <td>150</td>\n",
       "      <td>3.0</td>\n",
       "      <td>1217895940</td>\n",
       "    </tr>\n",
       "    <tr>\n",
       "      <th>7</th>\n",
       "      <td>1</td>\n",
       "      <td>161</td>\n",
       "      <td>4.0</td>\n",
       "      <td>1217897864</td>\n",
       "    </tr>\n",
       "    <tr>\n",
       "      <th>8</th>\n",
       "      <td>1</td>\n",
       "      <td>165</td>\n",
       "      <td>3.0</td>\n",
       "      <td>1217897135</td>\n",
       "    </tr>\n",
       "    <tr>\n",
       "      <th>9</th>\n",
       "      <td>1</td>\n",
       "      <td>204</td>\n",
       "      <td>0.5</td>\n",
       "      <td>1217895786</td>\n",
       "    </tr>\n",
       "  </tbody>\n",
       "</table>\n",
       "</div>"
      ],
      "text/plain": [
       "   userId  movieId  rating   timestamp\n",
       "0       1       16     4.0  1217897793\n",
       "1       1       24     1.5  1217895807\n",
       "2       1       32     4.0  1217896246\n",
       "3       1       47     4.0  1217896556\n",
       "4       1       50     4.0  1217896523\n",
       "5       1      110     4.0  1217896150\n",
       "6       1      150     3.0  1217895940\n",
       "7       1      161     4.0  1217897864\n",
       "8       1      165     3.0  1217897135\n",
       "9       1      204     0.5  1217895786"
      ]
     },
     "execution_count": 5,
     "metadata": {},
     "output_type": "execute_result"
    }
   ],
   "source": [
    "df.head(10)"
   ]
  },
  {
   "cell_type": "code",
   "execution_count": 6,
   "metadata": {},
   "outputs": [
    {
     "data": {
      "text/html": [
       "<div>\n",
       "<style scoped>\n",
       "    .dataframe tbody tr th:only-of-type {\n",
       "        vertical-align: middle;\n",
       "    }\n",
       "\n",
       "    .dataframe tbody tr th {\n",
       "        vertical-align: top;\n",
       "    }\n",
       "\n",
       "    .dataframe thead th {\n",
       "        text-align: right;\n",
       "    }\n",
       "</style>\n",
       "<table border=\"1\" class=\"dataframe\">\n",
       "  <thead>\n",
       "    <tr style=\"text-align: right;\">\n",
       "      <th></th>\n",
       "      <th>movieId</th>\n",
       "      <th>title</th>\n",
       "      <th>genres</th>\n",
       "    </tr>\n",
       "  </thead>\n",
       "  <tbody>\n",
       "    <tr>\n",
       "      <th>0</th>\n",
       "      <td>1</td>\n",
       "      <td>Toy Story (1995)</td>\n",
       "      <td>Adventure|Animation|Children|Comedy|Fantasy</td>\n",
       "    </tr>\n",
       "    <tr>\n",
       "      <th>1</th>\n",
       "      <td>2</td>\n",
       "      <td>Jumanji (1995)</td>\n",
       "      <td>Adventure|Children|Fantasy</td>\n",
       "    </tr>\n",
       "    <tr>\n",
       "      <th>2</th>\n",
       "      <td>3</td>\n",
       "      <td>Grumpier Old Men (1995)</td>\n",
       "      <td>Comedy|Romance</td>\n",
       "    </tr>\n",
       "    <tr>\n",
       "      <th>3</th>\n",
       "      <td>4</td>\n",
       "      <td>Waiting to Exhale (1995)</td>\n",
       "      <td>Comedy|Drama|Romance</td>\n",
       "    </tr>\n",
       "    <tr>\n",
       "      <th>4</th>\n",
       "      <td>5</td>\n",
       "      <td>Father of the Bride Part II (1995)</td>\n",
       "      <td>Comedy</td>\n",
       "    </tr>\n",
       "    <tr>\n",
       "      <th>5</th>\n",
       "      <td>6</td>\n",
       "      <td>Heat (1995)</td>\n",
       "      <td>Action|Crime|Thriller</td>\n",
       "    </tr>\n",
       "    <tr>\n",
       "      <th>6</th>\n",
       "      <td>7</td>\n",
       "      <td>Sabrina (1995)</td>\n",
       "      <td>Comedy|Romance</td>\n",
       "    </tr>\n",
       "    <tr>\n",
       "      <th>7</th>\n",
       "      <td>8</td>\n",
       "      <td>Tom and Huck (1995)</td>\n",
       "      <td>Adventure|Children</td>\n",
       "    </tr>\n",
       "    <tr>\n",
       "      <th>8</th>\n",
       "      <td>9</td>\n",
       "      <td>Sudden Death (1995)</td>\n",
       "      <td>Action</td>\n",
       "    </tr>\n",
       "    <tr>\n",
       "      <th>9</th>\n",
       "      <td>10</td>\n",
       "      <td>GoldenEye (1995)</td>\n",
       "      <td>Action|Adventure|Thriller</td>\n",
       "    </tr>\n",
       "  </tbody>\n",
       "</table>\n",
       "</div>"
      ],
      "text/plain": [
       "   movieId                               title  \\\n",
       "0        1                    Toy Story (1995)   \n",
       "1        2                      Jumanji (1995)   \n",
       "2        3             Grumpier Old Men (1995)   \n",
       "3        4            Waiting to Exhale (1995)   \n",
       "4        5  Father of the Bride Part II (1995)   \n",
       "5        6                         Heat (1995)   \n",
       "6        7                      Sabrina (1995)   \n",
       "7        8                 Tom and Huck (1995)   \n",
       "8        9                 Sudden Death (1995)   \n",
       "9       10                    GoldenEye (1995)   \n",
       "\n",
       "                                        genres  \n",
       "0  Adventure|Animation|Children|Comedy|Fantasy  \n",
       "1                   Adventure|Children|Fantasy  \n",
       "2                               Comedy|Romance  \n",
       "3                         Comedy|Drama|Romance  \n",
       "4                                       Comedy  \n",
       "5                        Action|Crime|Thriller  \n",
       "6                               Comedy|Romance  \n",
       "7                           Adventure|Children  \n",
       "8                                       Action  \n",
       "9                    Action|Adventure|Thriller  "
      ]
     },
     "execution_count": 6,
     "metadata": {},
     "output_type": "execute_result"
    }
   ],
   "source": [
    "mov.head(10)"
   ]
  },
  {
   "cell_type": "markdown",
   "metadata": {},
   "source": [
    "Idea is to create a user -item collaborative matrix and use an autoencoder to generate feature vector and find the similarity between the movies"
   ]
  },
  {
   "cell_type": "code",
   "execution_count": 7,
   "metadata": {},
   "outputs": [
    {
     "data": {
      "text/plain": [
       "userId       0\n",
       "movieId      0\n",
       "rating       0\n",
       "timestamp    0\n",
       "dtype: int64"
      ]
     },
     "execution_count": 7,
     "metadata": {},
     "output_type": "execute_result"
    }
   ],
   "source": [
    "df.isnull().sum()"
   ]
  },
  {
   "cell_type": "code",
   "execution_count": 8,
   "metadata": {},
   "outputs": [
    {
     "data": {
      "text/plain": [
       "(105339, 4)"
      ]
     },
     "execution_count": 8,
     "metadata": {},
     "output_type": "execute_result"
    }
   ],
   "source": [
    "df.shape"
   ]
  },
  {
   "cell_type": "code",
   "execution_count": 9,
   "metadata": {},
   "outputs": [
    {
     "data": {
      "text/plain": [
       "(10329, 3)"
      ]
     },
     "execution_count": 9,
     "metadata": {},
     "output_type": "execute_result"
    }
   ],
   "source": [
    "mov.shape"
   ]
  },
  {
   "cell_type": "code",
   "execution_count": 10,
   "metadata": {},
   "outputs": [],
   "source": [
    "colab = df.pivot(index='movieId',columns='userId',values='rating').fillna(0)"
   ]
  },
  {
   "cell_type": "code",
   "execution_count": 11,
   "metadata": {},
   "outputs": [
    {
     "data": {
      "text/html": [
       "<div>\n",
       "<style scoped>\n",
       "    .dataframe tbody tr th:only-of-type {\n",
       "        vertical-align: middle;\n",
       "    }\n",
       "\n",
       "    .dataframe tbody tr th {\n",
       "        vertical-align: top;\n",
       "    }\n",
       "\n",
       "    .dataframe thead th {\n",
       "        text-align: right;\n",
       "    }\n",
       "</style>\n",
       "<table border=\"1\" class=\"dataframe\">\n",
       "  <thead>\n",
       "    <tr style=\"text-align: right;\">\n",
       "      <th>userId</th>\n",
       "      <th>1</th>\n",
       "      <th>2</th>\n",
       "      <th>3</th>\n",
       "      <th>4</th>\n",
       "      <th>5</th>\n",
       "      <th>6</th>\n",
       "      <th>7</th>\n",
       "      <th>8</th>\n",
       "      <th>9</th>\n",
       "      <th>10</th>\n",
       "      <th>...</th>\n",
       "      <th>659</th>\n",
       "      <th>660</th>\n",
       "      <th>661</th>\n",
       "      <th>662</th>\n",
       "      <th>663</th>\n",
       "      <th>664</th>\n",
       "      <th>665</th>\n",
       "      <th>666</th>\n",
       "      <th>667</th>\n",
       "      <th>668</th>\n",
       "    </tr>\n",
       "    <tr>\n",
       "      <th>movieId</th>\n",
       "      <th></th>\n",
       "      <th></th>\n",
       "      <th></th>\n",
       "      <th></th>\n",
       "      <th></th>\n",
       "      <th></th>\n",
       "      <th></th>\n",
       "      <th></th>\n",
       "      <th></th>\n",
       "      <th></th>\n",
       "      <th></th>\n",
       "      <th></th>\n",
       "      <th></th>\n",
       "      <th></th>\n",
       "      <th></th>\n",
       "      <th></th>\n",
       "      <th></th>\n",
       "      <th></th>\n",
       "      <th></th>\n",
       "      <th></th>\n",
       "      <th></th>\n",
       "    </tr>\n",
       "  </thead>\n",
       "  <tbody>\n",
       "    <tr>\n",
       "      <th>1</th>\n",
       "      <td>0.0</td>\n",
       "      <td>5.0</td>\n",
       "      <td>0.0</td>\n",
       "      <td>0.0</td>\n",
       "      <td>4.0</td>\n",
       "      <td>0.0</td>\n",
       "      <td>0.0</td>\n",
       "      <td>5.0</td>\n",
       "      <td>0.0</td>\n",
       "      <td>0.0</td>\n",
       "      <td>...</td>\n",
       "      <td>0.0</td>\n",
       "      <td>0.0</td>\n",
       "      <td>4.0</td>\n",
       "      <td>5.0</td>\n",
       "      <td>3.0</td>\n",
       "      <td>0.0</td>\n",
       "      <td>0.0</td>\n",
       "      <td>0.0</td>\n",
       "      <td>0.0</td>\n",
       "      <td>3.0</td>\n",
       "    </tr>\n",
       "    <tr>\n",
       "      <th>2</th>\n",
       "      <td>0.0</td>\n",
       "      <td>0.0</td>\n",
       "      <td>0.0</td>\n",
       "      <td>0.0</td>\n",
       "      <td>0.0</td>\n",
       "      <td>0.0</td>\n",
       "      <td>0.0</td>\n",
       "      <td>0.0</td>\n",
       "      <td>0.0</td>\n",
       "      <td>0.0</td>\n",
       "      <td>...</td>\n",
       "      <td>0.0</td>\n",
       "      <td>0.0</td>\n",
       "      <td>0.0</td>\n",
       "      <td>5.0</td>\n",
       "      <td>0.0</td>\n",
       "      <td>0.0</td>\n",
       "      <td>0.0</td>\n",
       "      <td>0.0</td>\n",
       "      <td>0.0</td>\n",
       "      <td>3.0</td>\n",
       "    </tr>\n",
       "    <tr>\n",
       "      <th>3</th>\n",
       "      <td>0.0</td>\n",
       "      <td>2.0</td>\n",
       "      <td>0.0</td>\n",
       "      <td>0.0</td>\n",
       "      <td>0.0</td>\n",
       "      <td>0.0</td>\n",
       "      <td>0.0</td>\n",
       "      <td>4.0</td>\n",
       "      <td>3.0</td>\n",
       "      <td>0.0</td>\n",
       "      <td>...</td>\n",
       "      <td>0.0</td>\n",
       "      <td>0.0</td>\n",
       "      <td>3.0</td>\n",
       "      <td>0.0</td>\n",
       "      <td>0.0</td>\n",
       "      <td>0.0</td>\n",
       "      <td>0.0</td>\n",
       "      <td>0.0</td>\n",
       "      <td>0.0</td>\n",
       "      <td>2.0</td>\n",
       "    </tr>\n",
       "  </tbody>\n",
       "</table>\n",
       "<p>3 rows × 668 columns</p>\n",
       "</div>"
      ],
      "text/plain": [
       "userId   1    2    3    4    5    6    7    8    9    10   ...  659  660  661  \\\n",
       "movieId                                                    ...                  \n",
       "1        0.0  5.0  0.0  0.0  4.0  0.0  0.0  5.0  0.0  0.0  ...  0.0  0.0  4.0   \n",
       "2        0.0  0.0  0.0  0.0  0.0  0.0  0.0  0.0  0.0  0.0  ...  0.0  0.0  0.0   \n",
       "3        0.0  2.0  0.0  0.0  0.0  0.0  0.0  4.0  3.0  0.0  ...  0.0  0.0  3.0   \n",
       "\n",
       "userId   662  663  664  665  666  667  668  \n",
       "movieId                                     \n",
       "1        5.0  3.0  0.0  0.0  0.0  0.0  3.0  \n",
       "2        5.0  0.0  0.0  0.0  0.0  0.0  3.0  \n",
       "3        0.0  0.0  0.0  0.0  0.0  0.0  2.0  \n",
       "\n",
       "[3 rows x 668 columns]"
      ]
     },
     "execution_count": 11,
     "metadata": {},
     "output_type": "execute_result"
    }
   ],
   "source": [
    "colab.head(3)"
   ]
  },
  {
   "cell_type": "code",
   "execution_count": 12,
   "metadata": {},
   "outputs": [
    {
     "data": {
      "text/plain": [
       "(10325, 668)"
      ]
     },
     "execution_count": 12,
     "metadata": {},
     "output_type": "execute_result"
    }
   ],
   "source": [
    "colab.shape"
   ]
  },
  {
   "cell_type": "markdown",
   "metadata": {},
   "source": [
    "colab looks spare , let's check the sparsity of the matrix"
   ]
  },
  {
   "cell_type": "code",
   "execution_count": 14,
   "metadata": {},
   "outputs": [
    {
     "data": {
      "text/plain": [
       "1.5272940801206305"
      ]
     },
     "execution_count": 14,
     "metadata": {},
     "output_type": "execute_result"
    }
   ],
   "source": [
    "# sparsity  \n",
    "(colab > 0.0).sum().sum() / (colab.shape[0] * colab.shape[1]) *100"
   ]
  },
  {
   "cell_type": "markdown",
   "metadata": {},
   "source": [
    "only 1.5 percent of the values are filled or non - zero "
   ]
  },
  {
   "cell_type": "code",
   "execution_count": 15,
   "metadata": {},
   "outputs": [],
   "source": [
    "from sklearn.model_selection import train_test_split \n",
    "\n",
    "train, test = train_test_split(colab, test_size=0.25, random_state=42) \n",
    "# remeber there is no target here \n"
   ]
  },
  {
   "cell_type": "code",
   "execution_count": 16,
   "metadata": {},
   "outputs": [
    {
     "name": "stdout",
     "output_type": "stream",
     "text": [
      "(7743, 668)\n",
      "(2582, 668)\n"
     ]
    }
   ],
   "source": [
    "print(train.shape) \n",
    "print(test.shape) \n"
   ]
  },
  {
   "cell_type": "markdown",
   "metadata": {},
   "source": [
    "Building Auto encoder with neural network"
   ]
  },
  {
   "cell_type": "code",
   "execution_count": 17,
   "metadata": {},
   "outputs": [],
   "source": [
    "from tensorflow.keras.layers import Input, Flatten, Dense\n",
    "\n",
    "from tensorflow.keras.models import Model"
   ]
  },
  {
   "cell_type": "code",
   "execution_count": 19,
   "metadata": {},
   "outputs": [],
   "source": [
    "inp = Input(shape=(668,))\n",
    "# encoder stack\n",
    "e1 = Dense(512, activation='relu')(inp)\n",
    "e2 = Dense(256, activation='relu')(e1)\n",
    "e3 = Dense(128, activation='relu')(e2)\n",
    "e4 = Dense(64, activation='relu')(e3)\n",
    "\n",
    "# decoder stack\n",
    "d1 = Dense(128, activation='relu')(e4)\n",
    "d2 = Dense(256, activation='relu')(d1)\n",
    "d3 = Dense(512, activation='relu')(d2)\n",
    "d4 = Dense(668, activation='relu')(d3)\n",
    "\n",
    "model = Model(inp, d4)"
   ]
  },
  {
   "cell_type": "code",
   "execution_count": 20,
   "metadata": {},
   "outputs": [
    {
     "name": "stdout",
     "output_type": "stream",
     "text": [
      "Model: \"model\"\n",
      "_________________________________________________________________\n",
      " Layer (type)                Output Shape              Param #   \n",
      "=================================================================\n",
      " input_1 (InputLayer)        [(None, 668)]             0         \n",
      "                                                                 \n",
      " dense (Dense)               (None, 512)               342528    \n",
      "                                                                 \n",
      " dense_1 (Dense)             (None, 256)               131328    \n",
      "                                                                 \n",
      " dense_2 (Dense)             (None, 128)               32896     \n",
      "                                                                 \n",
      " dense_3 (Dense)             (None, 64)                8256      \n",
      "                                                                 \n",
      " dense_4 (Dense)             (None, 128)               8320      \n",
      "                                                                 \n",
      " dense_5 (Dense)             (None, 256)               33024     \n",
      "                                                                 \n",
      " dense_6 (Dense)             (None, 512)               131584    \n",
      "                                                                 \n",
      " dense_7 (Dense)             (None, 668)               342684    \n",
      "                                                                 \n",
      "=================================================================\n",
      "Total params: 1030620 (3.93 MB)\n",
      "Trainable params: 1030620 (3.93 MB)\n",
      "Non-trainable params: 0 (0.00 Byte)\n",
      "_________________________________________________________________\n"
     ]
    }
   ],
   "source": [
    "model.summary()"
   ]
  },
  {
   "cell_type": "code",
   "execution_count": 21,
   "metadata": {},
   "outputs": [
    {
     "name": "stdout",
     "output_type": "stream",
     "text": [
      "Epoch 1/90\n",
      "31/31 [==============================] - 5s 52ms/step - loss: 0.1752 - val_loss: 0.1634\n",
      "Epoch 2/90\n",
      "31/31 [==============================] - 1s 34ms/step - loss: 0.1510 - val_loss: 0.1474\n",
      "Epoch 3/90\n",
      "31/31 [==============================] - 1s 31ms/step - loss: 0.1387 - val_loss: 0.1376\n",
      "Epoch 4/90\n",
      "31/31 [==============================] - 1s 32ms/step - loss: 0.1292 - val_loss: 0.1297\n",
      "Epoch 5/90\n",
      "31/31 [==============================] - 1s 34ms/step - loss: 0.1213 - val_loss: 0.1255\n",
      "Epoch 6/90\n",
      "31/31 [==============================] - 1s 28ms/step - loss: 0.1151 - val_loss: 0.1205\n",
      "Epoch 7/90\n",
      "31/31 [==============================] - 1s 32ms/step - loss: 0.1094 - val_loss: 0.1176\n",
      "Epoch 8/90\n",
      "31/31 [==============================] - 1s 37ms/step - loss: 0.1046 - val_loss: 0.1163\n",
      "Epoch 9/90\n",
      "31/31 [==============================] - 1s 28ms/step - loss: 0.1008 - val_loss: 0.1143\n",
      "Epoch 10/90\n",
      "31/31 [==============================] - 1s 31ms/step - loss: 0.0962 - val_loss: 0.1127\n",
      "Epoch 11/90\n",
      "31/31 [==============================] - 1s 31ms/step - loss: 0.0932 - val_loss: 0.1111\n",
      "Epoch 12/90\n",
      "31/31 [==============================] - 1s 31ms/step - loss: 0.0911 - val_loss: 0.1120\n",
      "Epoch 13/90\n",
      "31/31 [==============================] - 1s 30ms/step - loss: 0.0876 - val_loss: 0.1109\n",
      "Epoch 14/90\n",
      "31/31 [==============================] - 1s 30ms/step - loss: 0.0854 - val_loss: 0.1103\n",
      "Epoch 15/90\n",
      "31/31 [==============================] - 1s 29ms/step - loss: 0.0829 - val_loss: 0.1106\n",
      "Epoch 16/90\n",
      "31/31 [==============================] - 1s 29ms/step - loss: 0.0801 - val_loss: 0.1095\n",
      "Epoch 17/90\n",
      "31/31 [==============================] - 1s 31ms/step - loss: 0.0781 - val_loss: 0.1099\n",
      "Epoch 18/90\n",
      "31/31 [==============================] - 1s 27ms/step - loss: 0.0757 - val_loss: 0.1101\n",
      "Epoch 19/90\n",
      "31/31 [==============================] - 1s 27ms/step - loss: 0.0732 - val_loss: 0.1102\n",
      "Epoch 20/90\n",
      "31/31 [==============================] - 1s 29ms/step - loss: 0.0710 - val_loss: 0.1103\n",
      "Epoch 21/90\n",
      "31/31 [==============================] - 1s 27ms/step - loss: 0.0683 - val_loss: 0.1098\n",
      "Epoch 22/90\n",
      "31/31 [==============================] - 1s 31ms/step - loss: 0.0669 - val_loss: 0.1107\n",
      "Epoch 23/90\n",
      "31/31 [==============================] - 1s 31ms/step - loss: 0.0660 - val_loss: 0.1102\n",
      "Epoch 24/90\n",
      "31/31 [==============================] - 1s 30ms/step - loss: 0.0657 - val_loss: 0.1108\n",
      "Epoch 25/90\n",
      "31/31 [==============================] - 1s 33ms/step - loss: 0.0653 - val_loss: 0.1113\n",
      "Epoch 26/90\n",
      "31/31 [==============================] - 1s 31ms/step - loss: 0.0629 - val_loss: 0.1115\n",
      "Epoch 27/90\n",
      "31/31 [==============================] - 1s 33ms/step - loss: 0.0610 - val_loss: 0.1119\n",
      "Epoch 28/90\n",
      "31/31 [==============================] - 1s 31ms/step - loss: 0.0590 - val_loss: 0.1110\n",
      "Epoch 29/90\n",
      "31/31 [==============================] - 1s 31ms/step - loss: 0.0583 - val_loss: 0.1115\n",
      "Epoch 30/90\n",
      "31/31 [==============================] - 1s 35ms/step - loss: 0.0591 - val_loss: 0.1126\n",
      "Epoch 31/90\n",
      "31/31 [==============================] - 1s 33ms/step - loss: 0.0589 - val_loss: 0.1117\n",
      "Epoch 32/90\n",
      "31/31 [==============================] - 1s 33ms/step - loss: 0.0571 - val_loss: 0.1116\n",
      "Epoch 33/90\n",
      "31/31 [==============================] - 1s 31ms/step - loss: 0.0558 - val_loss: 0.1106\n",
      "Epoch 34/90\n",
      "31/31 [==============================] - 1s 34ms/step - loss: 0.0535 - val_loss: 0.1110\n",
      "Epoch 35/90\n",
      "31/31 [==============================] - 1s 27ms/step - loss: 0.0526 - val_loss: 0.1115\n",
      "Epoch 36/90\n",
      "31/31 [==============================] - 1s 34ms/step - loss: 0.0521 - val_loss: 0.1125\n",
      "Epoch 37/90\n",
      "31/31 [==============================] - 1s 40ms/step - loss: 0.0517 - val_loss: 0.1117\n",
      "Epoch 38/90\n",
      "31/31 [==============================] - 1s 29ms/step - loss: 0.0509 - val_loss: 0.1118\n",
      "Epoch 39/90\n",
      "31/31 [==============================] - 1s 28ms/step - loss: 0.0507 - val_loss: 0.1124\n",
      "Epoch 40/90\n",
      "31/31 [==============================] - 1s 33ms/step - loss: 0.0501 - val_loss: 0.1119\n",
      "Epoch 41/90\n",
      "31/31 [==============================] - 1s 33ms/step - loss: 0.0500 - val_loss: 0.1122\n",
      "Epoch 42/90\n",
      "31/31 [==============================] - 1s 37ms/step - loss: 0.0499 - val_loss: 0.1125\n",
      "Epoch 43/90\n",
      "31/31 [==============================] - 1s 29ms/step - loss: 0.0502 - val_loss: 0.1122\n",
      "Epoch 44/90\n",
      "31/31 [==============================] - 1s 39ms/step - loss: 0.0500 - val_loss: 0.1119\n",
      "Epoch 45/90\n",
      "31/31 [==============================] - 1s 31ms/step - loss: 0.0496 - val_loss: 0.1121\n",
      "Epoch 46/90\n",
      "31/31 [==============================] - 1s 29ms/step - loss: 0.0495 - val_loss: 0.1126\n",
      "Epoch 47/90\n",
      "31/31 [==============================] - 1s 33ms/step - loss: 0.0489 - val_loss: 0.1119\n",
      "Epoch 48/90\n",
      "31/31 [==============================] - 1s 29ms/step - loss: 0.0481 - val_loss: 0.1126\n",
      "Epoch 49/90\n",
      "31/31 [==============================] - 1s 30ms/step - loss: 0.0476 - val_loss: 0.1121\n",
      "Epoch 50/90\n",
      "31/31 [==============================] - 1s 34ms/step - loss: 0.0471 - val_loss: 0.1118\n",
      "Epoch 51/90\n",
      "31/31 [==============================] - 1s 36ms/step - loss: 0.0473 - val_loss: 0.1118\n",
      "Epoch 52/90\n",
      "31/31 [==============================] - 1s 28ms/step - loss: 0.0477 - val_loss: 0.1127\n",
      "Epoch 53/90\n",
      "31/31 [==============================] - 1s 31ms/step - loss: 0.0474 - val_loss: 0.1134\n",
      "Epoch 54/90\n",
      "31/31 [==============================] - 1s 29ms/step - loss: 0.0472 - val_loss: 0.1124\n",
      "Epoch 55/90\n",
      "31/31 [==============================] - 1s 31ms/step - loss: 0.0471 - val_loss: 0.1124\n",
      "Epoch 56/90\n",
      "31/31 [==============================] - 1s 32ms/step - loss: 0.0472 - val_loss: 0.1130\n",
      "Epoch 57/90\n",
      "31/31 [==============================] - 1s 33ms/step - loss: 0.0470 - val_loss: 0.1122\n",
      "Epoch 58/90\n",
      "31/31 [==============================] - 1s 33ms/step - loss: 0.0472 - val_loss: 0.1131\n",
      "Epoch 59/90\n",
      "31/31 [==============================] - 1s 30ms/step - loss: 0.0485 - val_loss: 0.1131\n",
      "Epoch 60/90\n",
      "31/31 [==============================] - 1s 36ms/step - loss: 0.0479 - val_loss: 0.1126\n",
      "Epoch 61/90\n",
      "31/31 [==============================] - 1s 34ms/step - loss: 0.0476 - val_loss: 0.1124\n",
      "Epoch 62/90\n",
      "31/31 [==============================] - 1s 32ms/step - loss: 0.0474 - val_loss: 0.1120\n",
      "Epoch 63/90\n",
      "31/31 [==============================] - 1s 30ms/step - loss: 0.0468 - val_loss: 0.1120\n",
      "Epoch 64/90\n",
      "31/31 [==============================] - 1s 30ms/step - loss: 0.0465 - val_loss: 0.1125\n",
      "Epoch 65/90\n",
      "31/31 [==============================] - 1s 28ms/step - loss: 0.0463 - val_loss: 0.1117\n",
      "Epoch 66/90\n",
      "31/31 [==============================] - 1s 32ms/step - loss: 0.0462 - val_loss: 0.1118\n",
      "Epoch 67/90\n",
      "31/31 [==============================] - 1s 30ms/step - loss: 0.0463 - val_loss: 0.1130\n",
      "Epoch 68/90\n",
      "31/31 [==============================] - 1s 32ms/step - loss: 0.0465 - val_loss: 0.1121\n",
      "Epoch 69/90\n",
      "31/31 [==============================] - 1s 33ms/step - loss: 0.0469 - val_loss: 0.1126\n",
      "Epoch 70/90\n",
      "31/31 [==============================] - 1s 35ms/step - loss: 0.0470 - val_loss: 0.1120\n",
      "Epoch 71/90\n",
      "31/31 [==============================] - 1s 29ms/step - loss: 0.0472 - val_loss: 0.1120\n",
      "Epoch 72/90\n",
      "31/31 [==============================] - 1s 32ms/step - loss: 0.0470 - val_loss: 0.1123\n",
      "Epoch 73/90\n",
      "31/31 [==============================] - 1s 34ms/step - loss: 0.0468 - val_loss: 0.1125\n",
      "Epoch 74/90\n",
      "31/31 [==============================] - 1s 31ms/step - loss: 0.0475 - val_loss: 0.1126\n",
      "Epoch 75/90\n",
      "31/31 [==============================] - 1s 31ms/step - loss: 0.0470 - val_loss: 0.1120\n",
      "Epoch 76/90\n",
      "31/31 [==============================] - 1s 32ms/step - loss: 0.0467 - val_loss: 0.1121\n",
      "Epoch 77/90\n",
      "31/31 [==============================] - 1s 36ms/step - loss: 0.0466 - val_loss: 0.1117\n",
      "Epoch 78/90\n",
      "31/31 [==============================] - 1s 32ms/step - loss: 0.0462 - val_loss: 0.1119\n",
      "Epoch 79/90\n",
      "31/31 [==============================] - 1s 30ms/step - loss: 0.0469 - val_loss: 0.1118\n",
      "Epoch 80/90\n",
      "31/31 [==============================] - 1s 30ms/step - loss: 0.0468 - val_loss: 0.1121\n",
      "Epoch 81/90\n",
      "31/31 [==============================] - 1s 33ms/step - loss: 0.0468 - val_loss: 0.1120\n",
      "Epoch 82/90\n",
      "31/31 [==============================] - 1s 31ms/step - loss: 0.0465 - val_loss: 0.1118\n",
      "Epoch 83/90\n",
      "31/31 [==============================] - 1s 28ms/step - loss: 0.0460 - val_loss: 0.1115\n",
      "Epoch 84/90\n",
      "31/31 [==============================] - 1s 29ms/step - loss: 0.0457 - val_loss: 0.1113\n",
      "Epoch 85/90\n",
      "31/31 [==============================] - 1s 39ms/step - loss: 0.0455 - val_loss: 0.1112\n",
      "Epoch 86/90\n",
      "31/31 [==============================] - 1s 36ms/step - loss: 0.0451 - val_loss: 0.1107\n",
      "Epoch 87/90\n",
      "31/31 [==============================] - 1s 31ms/step - loss: 0.0451 - val_loss: 0.1110\n",
      "Epoch 88/90\n",
      "31/31 [==============================] - 1s 29ms/step - loss: 0.0451 - val_loss: 0.1113\n",
      "Epoch 89/90\n",
      "31/31 [==============================] - 1s 35ms/step - loss: 0.0452 - val_loss: 0.1113\n",
      "Epoch 90/90\n",
      "31/31 [==============================] - 1s 30ms/step - loss: 0.0453 - val_loss: 0.1113\n"
     ]
    },
    {
     "data": {
      "text/plain": [
       "<keras.src.callbacks.History at 0x27e414fa4d0>"
      ]
     },
     "execution_count": 21,
     "metadata": {},
     "output_type": "execute_result"
    }
   ],
   "source": [
    "# compile model\n",
    "model.compile(optimizer='adam', loss='mse') \n",
    "\n",
    "# fit model     \n",
    "model.fit(train, train, epochs=90, batch_size=256, validation_data=(test, test))"
   ]
  },
  {
   "cell_type": "code",
   "execution_count": 22,
   "metadata": {},
   "outputs": [
    {
     "data": {
      "text/plain": [
       "[<keras.src.engine.input_layer.InputLayer at 0x27e403dda50>,\n",
       " <keras.src.layers.core.dense.Dense at 0x27e403df8b0>,\n",
       " <keras.src.layers.core.dense.Dense at 0x27e403ddb40>,\n",
       " <keras.src.layers.core.dense.Dense at 0x27e414904f0>,\n",
       " <keras.src.layers.core.dense.Dense at 0x27e41491330>,\n",
       " <keras.src.layers.core.dense.Dense at 0x27e41491f00>,\n",
       " <keras.src.layers.core.dense.Dense at 0x27e41492770>,\n",
       " <keras.src.layers.core.dense.Dense at 0x27e41493340>,\n",
       " <keras.src.layers.core.dense.Dense at 0x27e41492a10>]"
      ]
     },
     "execution_count": 22,
     "metadata": {},
     "output_type": "execute_result"
    }
   ],
   "source": [
    "# we can plot epochs against mse and optimize for the same from model's dict \n",
    "\n",
    "# let's focus on getting the bottle neck embedding\n",
    "model.layers"
   ]
  },
  {
   "cell_type": "code",
   "execution_count": 26,
   "metadata": {},
   "outputs": [
    {
     "data": {
      "text/plain": [
       "<KerasTensor: shape=(None, 64) dtype=float32 (created by layer 'dense_3')>"
      ]
     },
     "execution_count": 26,
     "metadata": {},
     "output_type": "execute_result"
    }
   ],
   "source": [
    "embedd_layer = model.layers[4].output\n",
    "embedd_layer"
   ]
  },
  {
   "cell_type": "code",
   "execution_count": 27,
   "metadata": {},
   "outputs": [
    {
     "data": {
      "text/plain": [
       "<KerasTensor: shape=(None, 668) dtype=float32 (created by layer 'input_1')>"
      ]
     },
     "execution_count": 27,
     "metadata": {},
     "output_type": "execute_result"
    }
   ],
   "source": [
    "model.input"
   ]
  },
  {
   "cell_type": "code",
   "execution_count": 28,
   "metadata": {},
   "outputs": [],
   "source": [
    "embed_model = Model(model.input, embedd_layer)"
   ]
  },
  {
   "cell_type": "code",
   "execution_count": 30,
   "metadata": {},
   "outputs": [
    {
     "name": "stdout",
     "output_type": "stream",
     "text": [
      "81/81 [==============================] - 1s 6ms/step\n"
     ]
    }
   ],
   "source": [
    "test_embed = embed_model.predict(test)"
   ]
  },
  {
   "cell_type": "code",
   "execution_count": 33,
   "metadata": {},
   "outputs": [
    {
     "name": "stdout",
     "output_type": "stream",
     "text": [
      "323/323 [==============================] - 2s 6ms/step\n"
     ]
    }
   ],
   "source": [
    "total_embed = embed_model.predict(colab.values)"
   ]
  },
  {
   "cell_type": "code",
   "execution_count": 34,
   "metadata": {},
   "outputs": [
    {
     "data": {
      "text/plain": [
       "(10325, 64)"
      ]
     },
     "execution_count": 34,
     "metadata": {},
     "output_type": "execute_result"
    }
   ],
   "source": [
    "total_embed.shape"
   ]
  },
  {
   "cell_type": "markdown",
   "metadata": {},
   "source": [
    "it's like finding out similarity between each movie with respect to every other movie"
   ]
  },
  {
   "cell_type": "code",
   "execution_count": 35,
   "metadata": {},
   "outputs": [
    {
     "data": {
      "text/plain": [
       "(10325, 10325)"
      ]
     },
     "execution_count": 35,
     "metadata": {},
     "output_type": "execute_result"
    }
   ],
   "source": [
    "# let's build similarity matrix \n",
    "from sklearn.metrics.pairwise import cosine_similarity\n",
    "sim_mat = cosine_similarity(total_embed)\n",
    "sim_mat.shape"
   ]
  },
  {
   "cell_type": "markdown",
   "metadata": {},
   "source": [
    "We are going to take a movie_id from movies table and find similar movies from the similarity matrix"
   ]
  },
  {
   "cell_type": "code",
   "execution_count": 36,
   "metadata": {},
   "outputs": [
    {
     "data": {
      "text/html": [
       "<div>\n",
       "<style scoped>\n",
       "    .dataframe tbody tr th:only-of-type {\n",
       "        vertical-align: middle;\n",
       "    }\n",
       "\n",
       "    .dataframe tbody tr th {\n",
       "        vertical-align: top;\n",
       "    }\n",
       "\n",
       "    .dataframe thead th {\n",
       "        text-align: right;\n",
       "    }\n",
       "</style>\n",
       "<table border=\"1\" class=\"dataframe\">\n",
       "  <thead>\n",
       "    <tr style=\"text-align: right;\">\n",
       "      <th></th>\n",
       "      <th>movieId</th>\n",
       "      <th>title</th>\n",
       "      <th>genres</th>\n",
       "    </tr>\n",
       "  </thead>\n",
       "  <tbody>\n",
       "    <tr>\n",
       "      <th>0</th>\n",
       "      <td>1</td>\n",
       "      <td>Toy Story (1995)</td>\n",
       "      <td>Adventure|Animation|Children|Comedy|Fantasy</td>\n",
       "    </tr>\n",
       "    <tr>\n",
       "      <th>1</th>\n",
       "      <td>2</td>\n",
       "      <td>Jumanji (1995)</td>\n",
       "      <td>Adventure|Children|Fantasy</td>\n",
       "    </tr>\n",
       "    <tr>\n",
       "      <th>2</th>\n",
       "      <td>3</td>\n",
       "      <td>Grumpier Old Men (1995)</td>\n",
       "      <td>Comedy|Romance</td>\n",
       "    </tr>\n",
       "    <tr>\n",
       "      <th>3</th>\n",
       "      <td>4</td>\n",
       "      <td>Waiting to Exhale (1995)</td>\n",
       "      <td>Comedy|Drama|Romance</td>\n",
       "    </tr>\n",
       "  </tbody>\n",
       "</table>\n",
       "</div>"
      ],
      "text/plain": [
       "   movieId                     title  \\\n",
       "0        1          Toy Story (1995)   \n",
       "1        2            Jumanji (1995)   \n",
       "2        3   Grumpier Old Men (1995)   \n",
       "3        4  Waiting to Exhale (1995)   \n",
       "\n",
       "                                        genres  \n",
       "0  Adventure|Animation|Children|Comedy|Fantasy  \n",
       "1                   Adventure|Children|Fantasy  \n",
       "2                               Comedy|Romance  \n",
       "3                         Comedy|Drama|Romance  "
      ]
     },
     "execution_count": 36,
     "metadata": {},
     "output_type": "execute_result"
    }
   ],
   "source": [
    "mov.head(4)"
   ]
  },
  {
   "cell_type": "code",
   "execution_count": 39,
   "metadata": {},
   "outputs": [
    {
     "data": {
      "text/plain": [
       "movieId                                       19\n",
       "title      Ace Ventura: When Nature Calls (1995)\n",
       "genres                                    Comedy\n",
       "Name: 18, dtype: object"
      ]
     },
     "execution_count": 39,
     "metadata": {},
     "output_type": "execute_result"
    }
   ],
   "source": [
    "mov.loc[18]"
   ]
  },
  {
   "cell_type": "code",
   "execution_count": 40,
   "metadata": {},
   "outputs": [],
   "source": [
    "sim_mat_df = pd.DataFrame(sim_mat, columns=colab.index, index=colab.index)"
   ]
  },
  {
   "cell_type": "code",
   "execution_count": 42,
   "metadata": {},
   "outputs": [
    {
     "data": {
      "text/plain": [
       "(10325, 10325)"
      ]
     },
     "execution_count": 42,
     "metadata": {},
     "output_type": "execute_result"
    }
   ],
   "source": [
    "sim_mat_df.shape"
   ]
  },
  {
   "cell_type": "code",
   "execution_count": 43,
   "metadata": {},
   "outputs": [
    {
     "data": {
      "text/html": [
       "<div>\n",
       "<style scoped>\n",
       "    .dataframe tbody tr th:only-of-type {\n",
       "        vertical-align: middle;\n",
       "    }\n",
       "\n",
       "    .dataframe tbody tr th {\n",
       "        vertical-align: top;\n",
       "    }\n",
       "\n",
       "    .dataframe thead th {\n",
       "        text-align: right;\n",
       "    }\n",
       "</style>\n",
       "<table border=\"1\" class=\"dataframe\">\n",
       "  <thead>\n",
       "    <tr style=\"text-align: right;\">\n",
       "      <th>movieId</th>\n",
       "      <th>1</th>\n",
       "      <th>2</th>\n",
       "      <th>3</th>\n",
       "      <th>4</th>\n",
       "      <th>5</th>\n",
       "      <th>6</th>\n",
       "      <th>7</th>\n",
       "      <th>8</th>\n",
       "      <th>9</th>\n",
       "      <th>10</th>\n",
       "      <th>...</th>\n",
       "      <th>144482</th>\n",
       "      <th>144656</th>\n",
       "      <th>144976</th>\n",
       "      <th>146344</th>\n",
       "      <th>146656</th>\n",
       "      <th>146684</th>\n",
       "      <th>146878</th>\n",
       "      <th>148238</th>\n",
       "      <th>148626</th>\n",
       "      <th>149532</th>\n",
       "    </tr>\n",
       "    <tr>\n",
       "      <th>movieId</th>\n",
       "      <th></th>\n",
       "      <th></th>\n",
       "      <th></th>\n",
       "      <th></th>\n",
       "      <th></th>\n",
       "      <th></th>\n",
       "      <th></th>\n",
       "      <th></th>\n",
       "      <th></th>\n",
       "      <th></th>\n",
       "      <th></th>\n",
       "      <th></th>\n",
       "      <th></th>\n",
       "      <th></th>\n",
       "      <th></th>\n",
       "      <th></th>\n",
       "      <th></th>\n",
       "      <th></th>\n",
       "      <th></th>\n",
       "      <th></th>\n",
       "      <th></th>\n",
       "    </tr>\n",
       "  </thead>\n",
       "  <tbody>\n",
       "    <tr>\n",
       "      <th>1</th>\n",
       "      <td>1.000000</td>\n",
       "      <td>0.810123</td>\n",
       "      <td>0.701381</td>\n",
       "      <td>0.579881</td>\n",
       "      <td>0.732376</td>\n",
       "      <td>0.723421</td>\n",
       "      <td>0.745652</td>\n",
       "      <td>0.562495</td>\n",
       "      <td>0.655826</td>\n",
       "      <td>0.767094</td>\n",
       "      <td>...</td>\n",
       "      <td>0.446489</td>\n",
       "      <td>0.535820</td>\n",
       "      <td>0.518827</td>\n",
       "      <td>0.520499</td>\n",
       "      <td>0.494886</td>\n",
       "      <td>0.492949</td>\n",
       "      <td>0.482887</td>\n",
       "      <td>0.532426</td>\n",
       "      <td>0.556994</td>\n",
       "      <td>0.538511</td>\n",
       "    </tr>\n",
       "    <tr>\n",
       "      <th>2</th>\n",
       "      <td>0.810123</td>\n",
       "      <td>1.000000</td>\n",
       "      <td>0.847857</td>\n",
       "      <td>0.690491</td>\n",
       "      <td>0.801800</td>\n",
       "      <td>0.770306</td>\n",
       "      <td>0.823006</td>\n",
       "      <td>0.671271</td>\n",
       "      <td>0.731023</td>\n",
       "      <td>0.707319</td>\n",
       "      <td>...</td>\n",
       "      <td>0.609854</td>\n",
       "      <td>0.626602</td>\n",
       "      <td>0.627131</td>\n",
       "      <td>0.619346</td>\n",
       "      <td>0.637405</td>\n",
       "      <td>0.557504</td>\n",
       "      <td>0.556984</td>\n",
       "      <td>0.625283</td>\n",
       "      <td>0.638994</td>\n",
       "      <td>0.627665</td>\n",
       "    </tr>\n",
       "    <tr>\n",
       "      <th>3</th>\n",
       "      <td>0.701381</td>\n",
       "      <td>0.847857</td>\n",
       "      <td>1.000000</td>\n",
       "      <td>0.834606</td>\n",
       "      <td>0.834774</td>\n",
       "      <td>0.835817</td>\n",
       "      <td>0.787431</td>\n",
       "      <td>0.769575</td>\n",
       "      <td>0.873239</td>\n",
       "      <td>0.701788</td>\n",
       "      <td>...</td>\n",
       "      <td>0.675790</td>\n",
       "      <td>0.747478</td>\n",
       "      <td>0.768300</td>\n",
       "      <td>0.750461</td>\n",
       "      <td>0.688561</td>\n",
       "      <td>0.661711</td>\n",
       "      <td>0.667492</td>\n",
       "      <td>0.748854</td>\n",
       "      <td>0.771947</td>\n",
       "      <td>0.746392</td>\n",
       "    </tr>\n",
       "    <tr>\n",
       "      <th>4</th>\n",
       "      <td>0.579881</td>\n",
       "      <td>0.690491</td>\n",
       "      <td>0.834606</td>\n",
       "      <td>1.000000</td>\n",
       "      <td>0.776735</td>\n",
       "      <td>0.732021</td>\n",
       "      <td>0.715156</td>\n",
       "      <td>0.878291</td>\n",
       "      <td>0.834283</td>\n",
       "      <td>0.714623</td>\n",
       "      <td>...</td>\n",
       "      <td>0.797017</td>\n",
       "      <td>0.833067</td>\n",
       "      <td>0.825610</td>\n",
       "      <td>0.840283</td>\n",
       "      <td>0.800947</td>\n",
       "      <td>0.797282</td>\n",
       "      <td>0.803500</td>\n",
       "      <td>0.835537</td>\n",
       "      <td>0.816642</td>\n",
       "      <td>0.831037</td>\n",
       "    </tr>\n",
       "  </tbody>\n",
       "</table>\n",
       "<p>4 rows × 10325 columns</p>\n",
       "</div>"
      ],
      "text/plain": [
       "movieId    1         2         3         4         5         6         7       \\\n",
       "movieId                                                                         \n",
       "1        1.000000  0.810123  0.701381  0.579881  0.732376  0.723421  0.745652   \n",
       "2        0.810123  1.000000  0.847857  0.690491  0.801800  0.770306  0.823006   \n",
       "3        0.701381  0.847857  1.000000  0.834606  0.834774  0.835817  0.787431   \n",
       "4        0.579881  0.690491  0.834606  1.000000  0.776735  0.732021  0.715156   \n",
       "\n",
       "movieId    8         9         10      ...    144482    144656    144976  \\\n",
       "movieId                                ...                                 \n",
       "1        0.562495  0.655826  0.767094  ...  0.446489  0.535820  0.518827   \n",
       "2        0.671271  0.731023  0.707319  ...  0.609854  0.626602  0.627131   \n",
       "3        0.769575  0.873239  0.701788  ...  0.675790  0.747478  0.768300   \n",
       "4        0.878291  0.834283  0.714623  ...  0.797017  0.833067  0.825610   \n",
       "\n",
       "movieId    146344    146656    146684    146878    148238    148626    149532  \n",
       "movieId                                                                        \n",
       "1        0.520499  0.494886  0.492949  0.482887  0.532426  0.556994  0.538511  \n",
       "2        0.619346  0.637405  0.557504  0.556984  0.625283  0.638994  0.627665  \n",
       "3        0.750461  0.688561  0.661711  0.667492  0.748854  0.771947  0.746392  \n",
       "4        0.840283  0.800947  0.797282  0.803500  0.835537  0.816642  0.831037  \n",
       "\n",
       "[4 rows x 10325 columns]"
      ]
     },
     "execution_count": 43,
     "metadata": {},
     "output_type": "execute_result"
    }
   ],
   "source": [
    "sim_mat_df.head(4)"
   ]
  },
  {
   "cell_type": "code",
   "execution_count": 44,
   "metadata": {},
   "outputs": [
    {
     "data": {
      "text/plain": [
       "movieId\n",
       "19       1.000000\n",
       "344      0.943017\n",
       "231      0.903316\n",
       "333      0.899549\n",
       "53996    0.897309\n",
       "420      0.896601\n",
       "1562     0.890176\n",
       "45722    0.887743\n",
       "208      0.887587\n",
       "367      0.885839\n",
       "Name: 19, dtype: float32"
      ]
     },
     "execution_count": 44,
     "metadata": {},
     "output_type": "execute_result"
    }
   ],
   "source": [
    "sim_mat_df.loc[19].sort_values(ascending=False).head(10)"
   ]
  },
  {
   "cell_type": "code",
   "execution_count": 45,
   "metadata": {},
   "outputs": [
    {
     "data": {
      "text/plain": [
       "Int64Index([19, 344, 231, 333, 53996, 420, 1562, 45722, 208, 367], dtype='int64', name='movieId')"
      ]
     },
     "execution_count": 45,
     "metadata": {},
     "output_type": "execute_result"
    }
   ],
   "source": [
    "# the above are the top ten movies that are similar to movie_id 19  \n",
    "sim_mat_df.loc[19].sort_values(ascending=False).head(10).index"
   ]
  },
  {
   "cell_type": "code",
   "execution_count": 47,
   "metadata": {},
   "outputs": [
    {
     "data": {
      "text/html": [
       "<div>\n",
       "<style scoped>\n",
       "    .dataframe tbody tr th:only-of-type {\n",
       "        vertical-align: middle;\n",
       "    }\n",
       "\n",
       "    .dataframe tbody tr th {\n",
       "        vertical-align: top;\n",
       "    }\n",
       "\n",
       "    .dataframe thead th {\n",
       "        text-align: right;\n",
       "    }\n",
       "</style>\n",
       "<table border=\"1\" class=\"dataframe\">\n",
       "  <thead>\n",
       "    <tr style=\"text-align: right;\">\n",
       "      <th></th>\n",
       "      <th>movieId</th>\n",
       "      <th>title</th>\n",
       "      <th>genres</th>\n",
       "    </tr>\n",
       "  </thead>\n",
       "  <tbody>\n",
       "    <tr>\n",
       "      <th>18</th>\n",
       "      <td>19</td>\n",
       "      <td>Ace Ventura: When Nature Calls (1995)</td>\n",
       "      <td>Comedy</td>\n",
       "    </tr>\n",
       "    <tr>\n",
       "      <th>180</th>\n",
       "      <td>208</td>\n",
       "      <td>Waterworld (1995)</td>\n",
       "      <td>Action|Adventure|Sci-Fi</td>\n",
       "    </tr>\n",
       "    <tr>\n",
       "      <th>202</th>\n",
       "      <td>231</td>\n",
       "      <td>Dumb &amp; Dumber (Dumb and Dumber) (1994)</td>\n",
       "      <td>Adventure|Comedy</td>\n",
       "    </tr>\n",
       "    <tr>\n",
       "      <th>293</th>\n",
       "      <td>333</td>\n",
       "      <td>Tommy Boy (1995)</td>\n",
       "      <td>Comedy</td>\n",
       "    </tr>\n",
       "    <tr>\n",
       "      <th>304</th>\n",
       "      <td>344</td>\n",
       "      <td>Ace Ventura: Pet Detective (1994)</td>\n",
       "      <td>Comedy</td>\n",
       "    </tr>\n",
       "    <tr>\n",
       "      <th>326</th>\n",
       "      <td>367</td>\n",
       "      <td>Mask, The (1994)</td>\n",
       "      <td>Action|Comedy|Crime|Fantasy</td>\n",
       "    </tr>\n",
       "    <tr>\n",
       "      <th>368</th>\n",
       "      <td>420</td>\n",
       "      <td>Beverly Hills Cop III (1994)</td>\n",
       "      <td>Action|Comedy|Crime|Thriller</td>\n",
       "    </tr>\n",
       "    <tr>\n",
       "      <th>1253</th>\n",
       "      <td>1562</td>\n",
       "      <td>Batman &amp; Robin (1997)</td>\n",
       "      <td>Action|Adventure|Fantasy|Thriller</td>\n",
       "    </tr>\n",
       "    <tr>\n",
       "      <th>7035</th>\n",
       "      <td>45722</td>\n",
       "      <td>Pirates of the Caribbean: Dead Man's Chest (2006)</td>\n",
       "      <td>Action|Adventure|Fantasy</td>\n",
       "    </tr>\n",
       "    <tr>\n",
       "      <th>7422</th>\n",
       "      <td>53996</td>\n",
       "      <td>Transformers (2007)</td>\n",
       "      <td>Action|Sci-Fi|Thriller|IMAX</td>\n",
       "    </tr>\n",
       "  </tbody>\n",
       "</table>\n",
       "</div>"
      ],
      "text/plain": [
       "      movieId                                              title  \\\n",
       "18         19              Ace Ventura: When Nature Calls (1995)   \n",
       "180       208                                  Waterworld (1995)   \n",
       "202       231             Dumb & Dumber (Dumb and Dumber) (1994)   \n",
       "293       333                                   Tommy Boy (1995)   \n",
       "304       344                  Ace Ventura: Pet Detective (1994)   \n",
       "326       367                                   Mask, The (1994)   \n",
       "368       420                       Beverly Hills Cop III (1994)   \n",
       "1253     1562                              Batman & Robin (1997)   \n",
       "7035    45722  Pirates of the Caribbean: Dead Man's Chest (2006)   \n",
       "7422    53996                                Transformers (2007)   \n",
       "\n",
       "                                 genres  \n",
       "18                               Comedy  \n",
       "180             Action|Adventure|Sci-Fi  \n",
       "202                    Adventure|Comedy  \n",
       "293                              Comedy  \n",
       "304                              Comedy  \n",
       "326         Action|Comedy|Crime|Fantasy  \n",
       "368        Action|Comedy|Crime|Thriller  \n",
       "1253  Action|Adventure|Fantasy|Thriller  \n",
       "7035           Action|Adventure|Fantasy  \n",
       "7422        Action|Sci-Fi|Thriller|IMAX  "
      ]
     },
     "execution_count": 47,
     "metadata": {},
     "output_type": "execute_result"
    }
   ],
   "source": [
    "# Finally finding the similar movies with Ace ventura movie \n",
    "\n",
    "mov[mov['movieId'].isin(sim_mat_df.loc[19].sort_values(ascending=False).head(10).index)]"
   ]
  },
  {
   "cell_type": "code",
   "execution_count": 48,
   "metadata": {},
   "outputs": [
    {
     "data": {
      "text/plain": [
       "movieId\n",
       "53996    1.000000\n",
       "51662    0.933098\n",
       "34048    0.918943\n",
       "31696    0.914599\n",
       "49278    0.914213\n",
       "45447    0.911847\n",
       "68319    0.908503\n",
       "59784    0.908280\n",
       "56174    0.906658\n",
       "57368    0.905278\n",
       "Name: 53996, dtype: float32"
      ]
     },
     "execution_count": 48,
     "metadata": {},
     "output_type": "execute_result"
    }
   ],
   "source": [
    "sim_mat_df.loc[53996].sort_values(ascending=False).head(10)"
   ]
  },
  {
   "cell_type": "code",
   "execution_count": 49,
   "metadata": {},
   "outputs": [
    {
     "data": {
      "text/html": [
       "<div>\n",
       "<style scoped>\n",
       "    .dataframe tbody tr th:only-of-type {\n",
       "        vertical-align: middle;\n",
       "    }\n",
       "\n",
       "    .dataframe tbody tr th {\n",
       "        vertical-align: top;\n",
       "    }\n",
       "\n",
       "    .dataframe thead th {\n",
       "        text-align: right;\n",
       "    }\n",
       "</style>\n",
       "<table border=\"1\" class=\"dataframe\">\n",
       "  <thead>\n",
       "    <tr style=\"text-align: right;\">\n",
       "      <th></th>\n",
       "      <th>movieId</th>\n",
       "      <th>title</th>\n",
       "      <th>genres</th>\n",
       "    </tr>\n",
       "  </thead>\n",
       "  <tbody>\n",
       "    <tr>\n",
       "      <th>6490</th>\n",
       "      <td>31696</td>\n",
       "      <td>Constantine (2005)</td>\n",
       "      <td>Action|Fantasy|Horror|Thriller</td>\n",
       "    </tr>\n",
       "    <tr>\n",
       "      <th>6662</th>\n",
       "      <td>34048</td>\n",
       "      <td>War of the Worlds (2005)</td>\n",
       "      <td>Action|Adventure|Sci-Fi|Thriller</td>\n",
       "    </tr>\n",
       "    <tr>\n",
       "      <th>7017</th>\n",
       "      <td>45447</td>\n",
       "      <td>Da Vinci Code, The (2006)</td>\n",
       "      <td>Drama|Mystery|Thriller</td>\n",
       "    </tr>\n",
       "    <tr>\n",
       "      <th>7202</th>\n",
       "      <td>49278</td>\n",
       "      <td>Déjà Vu (Deja Vu) (2006)</td>\n",
       "      <td>Action|Sci-Fi|Thriller</td>\n",
       "    </tr>\n",
       "    <tr>\n",
       "      <th>7306</th>\n",
       "      <td>51662</td>\n",
       "      <td>300 (2007)</td>\n",
       "      <td>Action|Fantasy|War|IMAX</td>\n",
       "    </tr>\n",
       "    <tr>\n",
       "      <th>7422</th>\n",
       "      <td>53996</td>\n",
       "      <td>Transformers (2007)</td>\n",
       "      <td>Action|Sci-Fi|Thriller|IMAX</td>\n",
       "    </tr>\n",
       "    <tr>\n",
       "      <th>7564</th>\n",
       "      <td>56174</td>\n",
       "      <td>I Am Legend (2007)</td>\n",
       "      <td>Action|Horror|Sci-Fi|Thriller|IMAX</td>\n",
       "    </tr>\n",
       "    <tr>\n",
       "      <th>7606</th>\n",
       "      <td>57368</td>\n",
       "      <td>Cloverfield (2008)</td>\n",
       "      <td>Action|Mystery|Sci-Fi|Thriller</td>\n",
       "    </tr>\n",
       "    <tr>\n",
       "      <th>7741</th>\n",
       "      <td>59784</td>\n",
       "      <td>Kung Fu Panda (2008)</td>\n",
       "      <td>Action|Animation|Children|Comedy|IMAX</td>\n",
       "    </tr>\n",
       "    <tr>\n",
       "      <th>8092</th>\n",
       "      <td>68319</td>\n",
       "      <td>X-Men Origins: Wolverine (2009)</td>\n",
       "      <td>Action|Sci-Fi|Thriller</td>\n",
       "    </tr>\n",
       "  </tbody>\n",
       "</table>\n",
       "</div>"
      ],
      "text/plain": [
       "      movieId                            title  \\\n",
       "6490    31696               Constantine (2005)   \n",
       "6662    34048         War of the Worlds (2005)   \n",
       "7017    45447        Da Vinci Code, The (2006)   \n",
       "7202    49278         Déjà Vu (Deja Vu) (2006)   \n",
       "7306    51662                       300 (2007)   \n",
       "7422    53996              Transformers (2007)   \n",
       "7564    56174               I Am Legend (2007)   \n",
       "7606    57368               Cloverfield (2008)   \n",
       "7741    59784             Kung Fu Panda (2008)   \n",
       "8092    68319  X-Men Origins: Wolverine (2009)   \n",
       "\n",
       "                                     genres  \n",
       "6490         Action|Fantasy|Horror|Thriller  \n",
       "6662       Action|Adventure|Sci-Fi|Thriller  \n",
       "7017                 Drama|Mystery|Thriller  \n",
       "7202                 Action|Sci-Fi|Thriller  \n",
       "7306                Action|Fantasy|War|IMAX  \n",
       "7422            Action|Sci-Fi|Thriller|IMAX  \n",
       "7564     Action|Horror|Sci-Fi|Thriller|IMAX  \n",
       "7606         Action|Mystery|Sci-Fi|Thriller  \n",
       "7741  Action|Animation|Children|Comedy|IMAX  \n",
       "8092                 Action|Sci-Fi|Thriller  "
      ]
     },
     "execution_count": 49,
     "metadata": {},
     "output_type": "execute_result"
    }
   ],
   "source": [
    "mov[mov['movieId'].isin(sim_mat_df.loc[53996].sort_values(ascending=False).head(10).index)]"
   ]
  },
  {
   "cell_type": "code",
   "execution_count": 50,
   "metadata": {},
   "outputs": [
    {
     "data": {
      "text/html": [
       "<div>\n",
       "<style scoped>\n",
       "    .dataframe tbody tr th:only-of-type {\n",
       "        vertical-align: middle;\n",
       "    }\n",
       "\n",
       "    .dataframe tbody tr th {\n",
       "        vertical-align: top;\n",
       "    }\n",
       "\n",
       "    .dataframe thead th {\n",
       "        text-align: right;\n",
       "    }\n",
       "</style>\n",
       "<table border=\"1\" class=\"dataframe\">\n",
       "  <thead>\n",
       "    <tr style=\"text-align: right;\">\n",
       "      <th></th>\n",
       "      <th>movieId</th>\n",
       "      <th>title</th>\n",
       "      <th>genres</th>\n",
       "    </tr>\n",
       "  </thead>\n",
       "  <tbody>\n",
       "    <tr>\n",
       "      <th>3157</th>\n",
       "      <td>4006</td>\n",
       "      <td>Transformers: The Movie (1986)</td>\n",
       "      <td>Adventure|Animation|Children|Sci-Fi</td>\n",
       "    </tr>\n",
       "    <tr>\n",
       "      <th>7422</th>\n",
       "      <td>53996</td>\n",
       "      <td>Transformers (2007)</td>\n",
       "      <td>Action|Sci-Fi|Thriller|IMAX</td>\n",
       "    </tr>\n",
       "    <tr>\n",
       "      <th>8150</th>\n",
       "      <td>69526</td>\n",
       "      <td>Transformers: Revenge of the Fallen (2009)</td>\n",
       "      <td>Action|Adventure|Sci-Fi|IMAX</td>\n",
       "    </tr>\n",
       "    <tr>\n",
       "      <th>9028</th>\n",
       "      <td>87520</td>\n",
       "      <td>Transformers: Dark of the Moon (2011)</td>\n",
       "      <td>Action|Adventure|Sci-Fi|War|IMAX</td>\n",
       "    </tr>\n",
       "    <tr>\n",
       "      <th>9993</th>\n",
       "      <td>112370</td>\n",
       "      <td>Transformers: Age of Extinction (2014)</td>\n",
       "      <td>Action|Adventure|Sci-Fi</td>\n",
       "    </tr>\n",
       "  </tbody>\n",
       "</table>\n",
       "</div>"
      ],
      "text/plain": [
       "      movieId                                       title  \\\n",
       "3157     4006              Transformers: The Movie (1986)   \n",
       "7422    53996                         Transformers (2007)   \n",
       "8150    69526  Transformers: Revenge of the Fallen (2009)   \n",
       "9028    87520       Transformers: Dark of the Moon (2011)   \n",
       "9993   112370      Transformers: Age of Extinction (2014)   \n",
       "\n",
       "                                   genres  \n",
       "3157  Adventure|Animation|Children|Sci-Fi  \n",
       "7422          Action|Sci-Fi|Thriller|IMAX  \n",
       "8150         Action|Adventure|Sci-Fi|IMAX  \n",
       "9028     Action|Adventure|Sci-Fi|War|IMAX  \n",
       "9993              Action|Adventure|Sci-Fi  "
      ]
     },
     "execution_count": 50,
     "metadata": {},
     "output_type": "execute_result"
    }
   ],
   "source": []
  },
  {
   "cell_type": "code",
   "execution_count": 51,
   "metadata": {},
   "outputs": [
    {
     "data": {
      "text/plain": [
       "' we can build a simple streamlit webapp where user enters the movie name and if the movie is present in the movie dataset and with the help of the index \\nwe can recommend similar movies to the user'"
      ]
     },
     "execution_count": 51,
     "metadata": {},
     "output_type": "execute_result"
    }
   ],
   "source": [
    "''' we can build a simple streamlit webapp where user enters the movie name and if the movie is present in the movie dataset and with the help of the index \n",
    "we can recommend similar movies to the user'''"
   ]
  },
  {
   "cell_type": "code",
   "execution_count": null,
   "metadata": {},
   "outputs": [],
   "source": []
  }
 ],
 "metadata": {
  "kernelspec": {
   "display_name": "Python 3",
   "language": "python",
   "name": "python3"
  },
  "language_info": {
   "codemirror_mode": {
    "name": "ipython",
    "version": 3
   },
   "file_extension": ".py",
   "mimetype": "text/x-python",
   "name": "python",
   "nbconvert_exporter": "python",
   "pygments_lexer": "ipython3",
   "version": "3.10.7"
  }
 },
 "nbformat": 4,
 "nbformat_minor": 2
}
